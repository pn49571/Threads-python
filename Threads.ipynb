{
 "cells": [
  {
   "cell_type": "code",
   "execution_count": 1,
   "metadata": {
    "collapsed": false
   },
   "outputs": [
    {
     "name": "stdout",
     "output_type": "stream",
     "text": [
      "Hello from thread 1\n",
      "2\n",
      "Hello from thread 2\n",
      "3\n",
      "Hello from thread 3\n",
      "q\n"
     ]
    }
   ],
   "source": [
    "import _thread\n",
    "def child(tid):\n",
    "    print('Hello from thread', tid)\n",
    "def parent():\n",
    "    i = 0\n",
    "    while True:\n",
    "        i += 1\n",
    "        _thread.start_new_thread(child, (i,))\n",
    "        if input() == 'q': break\n",
    "parent()\n"
   ]
  },
  {
   "cell_type": "code",
   "execution_count": 2,
   "metadata": {
    "collapsed": false
   },
   "outputs": [
    {
     "name": "stdout",
     "output_type": "stream",
     "text": [
      "Thread-1 started!\n",
      "Thread-2 started!\n",
      "Thread-1 finished!\n",
      "Thread-3 started!\n",
      "Thread-2 finished!\n",
      "Thread-4 started!\n",
      "Thread-3 finished!\n",
      "Thread-4 finished!\n"
     ]
    }
   ],
   "source": [
    "import threading\n",
    "import time\n",
    "from __future__ import print_function\n",
    "\n",
    "class MyThread(threading.Thread):\n",
    "    def run(self):\n",
    "        print(\"{} started!\".format(self.getName()))              # \"Thread-x started!\"\n",
    "        time.sleep(1)                                      # Pretend to work for a second\n",
    "        print(\"{} finished!\".format(self.getName()))             # \"Thread-x finished!\"\n",
    "\n",
    "if __name__ == '__main__':\n",
    "    for x in range(4):                                     # Four times...\n",
    "        mythread = MyThread(name = \"Thread-{}\".format(x + 1))  # ...Instantiate a thread and pass a unique ID to it\n",
    "        mythread.start()                                   # ...Start the thread\n",
    "        time.sleep(.9)                                     # ...Wait 0.9 seconds before starting another"
   ]
  },
  {
   "cell_type": "code",
   "execution_count": 3,
   "metadata": {
    "collapsed": false
   },
   "outputs": [
    {
     "name": "stdout",
     "output_type": "stream",
     "text": [
      "Timer: Timer1 Started\n",
      "Timer: Timer2 Started\n",
      "Main complete\n",
      "Timer1: Fri May 12 22:11:16 2017\n",
      "Timer2: Fri May 12 22:11:17 2017\n",
      "Timer1: Fri May 12 22:11:17 2017\n",
      "Timer1: Fri May 12 22:11:18 2017\n",
      "Timer2: Fri May 12 22:11:19 2017\n",
      "Timer1: Fri May 12 22:11:19 2017\n",
      "Timer1: Fri May 12 22:11:20 2017\n",
      "Timer: Timer1 Completed\n",
      "Timer2: Fri May 12 22:11:21 2017\n",
      "Timer2: Fri May 12 22:11:23 2017\n",
      "Timer2: Fri May 12 22:11:25 2017\n",
      "Timer: Timer2 Completed\n"
     ]
    }
   ],
   "source": [
    "from threading import Thread\n",
    "import time\n",
    "\n",
    "def timer(name, delay, repeat):\n",
    "    print(\"Timer: \" + name + \" Started\")\n",
    "    while repeat > 0:\n",
    "        time.sleep(delay)\n",
    "        print(name + \": \" + str(time.ctime(time.time())))\n",
    "        repeat -= 1\n",
    "    print(\"Timer: \" + name + \" Completed\")\n",
    "\n",
    "def Main():\n",
    "    t1 = Thread(target=timer, args=(\"Timer1\", 1, 5))\n",
    "    t2 = Thread(target=timer, args=(\"Timer2\", 2, 5))\n",
    "    t1.start()\n",
    "    t2.start()\n",
    "    \n",
    "    print(\"Main complete\")\n",
    "\n",
    "if __name__ == '__main__':\n",
    "    Main()\n",
    "    "
   ]
  },
  {
   "cell_type": "code",
   "execution_count": 4,
   "metadata": {
    "collapsed": false
   },
   "outputs": [
    {
     "name": "stdout",
     "output_type": "stream",
     "text": [
      "Enter a string to store:sai\n",
      "The program can continue while it writes in another thread\n",
      "100 + 400 =  500\n",
      "Finished Background file write to out.txt\n",
      "Waited until thread was complete\n"
     ]
    }
   ],
   "source": [
    "import threading\n",
    "import time\n",
    "\n",
    "class AsyncWrite(threading.Thread):\n",
    "    def __init__(self, text, out):\n",
    "        threading.Thread.__init__(self)\n",
    "        self.text = text\n",
    "        self.out = out\n",
    "\n",
    "    def run(self):\n",
    "        f = open(self.out, \"a\")\n",
    "        f.write(self.text + '\\n')\n",
    "        f.close()\n",
    "        time.sleep(2)\n",
    "        print(\"Finished Background file write to \" + self.out)\n",
    "        \n",
    "\n",
    "def Main():\n",
    "    message = input(\"Enter a string to store:\" )\n",
    "    background = AsyncWrite(message, 'out.txt')\n",
    "    background.start()\n",
    "    print(\"The program can continue while it writes in another thread\")\n",
    "    print(\"100 + 400 = \", 100+400)\n",
    "\n",
    "    background.join()\n",
    "    print(\"Waited until thread was complete\")\n",
    "\n",
    "if __name__ == '__main__':\n",
    "    Main()"
   ]
  },
  {
   "cell_type": "code",
   "execution_count": 5,
   "metadata": {
    "collapsed": false
   },
   "outputs": [
    {
     "name": "stdout",
     "output_type": "stream",
     "text": [
      "Timer: Timer1 Started\n",
      "Timer1 Has Acquired the lock\n",
      "Timer: Timer2 Started\n",
      "Main complete\n",
      "Timer1: Fri May 12 22:14:10 2017\n",
      "Timer1: Fri May 12 22:14:11 2017\n",
      "Timer1: Fri May 12 22:14:12 2017\n",
      "Timer1: Fri May 12 22:14:13 2017\n",
      "Timer1: Fri May 12 22:14:14 2017\n",
      "Timer1 is releasing the lock\n",
      "Timer: Timer1 Completed\n",
      "Timer2 Has Acquired the lock\n",
      "Timer2: Fri May 12 22:14:16 2017\n",
      "Timer2: Fri May 12 22:14:18 2017\n",
      "Timer2: Fri May 12 22:14:20 2017\n",
      "Timer2: Fri May 12 22:14:22 2017\n",
      "Timer2: Fri May 12 22:14:24 2017\n",
      "Timer2 is releasing the lock\n",
      "Timer: Timer2 Completed\n"
     ]
    }
   ],
   "source": [
    "import threading\n",
    "import time\n",
    "\n",
    "tLock = threading.Lock()\n",
    "\n",
    "def timer(name, delay, repeat):\n",
    "    print(\"Timer: \" + name + \" Started\")\n",
    "    tLock.acquire()\n",
    "    print(name + \" Has Acquired the lock\")\n",
    "    while repeat > 0:\n",
    "        time.sleep(delay)\n",
    "        print(name + \": \" + str(time.ctime(time.time())))\n",
    "        repeat -= 1\n",
    "    print(name + \" is releasing the lock\")\n",
    "    tLock.release()\n",
    "    print(\"Timer: \" + name + \" Completed\")\n",
    "\n",
    "def Main():\n",
    "    t1 = threading.Thread(target=timer, args=(\"Timer1\", 1, 5))\n",
    "    t2 = threading.Thread(target=timer, args=(\"Timer2\", 2, 5))\n",
    "    t1.start()\n",
    "    t2.start()\n",
    "    \n",
    "    print(\"Main complete\")\n",
    "\n",
    "if __name__ == '__main__':\n",
    "    Main()"
   ]
  },
  {
   "cell_type": "code",
   "execution_count": null,
   "metadata": {
    "collapsed": true
   },
   "outputs": [],
   "source": []
  }
 ],
 "metadata": {
  "kernelspec": {
   "display_name": "Python 3",
   "language": "python",
   "name": "python3"
  },
  "language_info": {
   "codemirror_mode": {
    "name": "ipython",
    "version": 3
   },
   "file_extension": ".py",
   "mimetype": "text/x-python",
   "name": "python",
   "nbconvert_exporter": "python",
   "pygments_lexer": "ipython3",
   "version": "3.5.2"
  }
 },
 "nbformat": 4,
 "nbformat_minor": 1
}
